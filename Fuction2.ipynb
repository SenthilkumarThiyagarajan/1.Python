{
 "cells": [
  {
   "cell_type": "code",
   "execution_count": 1,
   "metadata": {},
   "outputs": [],
   "source": [
    "def Subfields():\n",
    "    print(\"Sub-fields in AI are:\")\n",
    "    print(\"Machine LearningNeural\")\n",
    "    print(\"NetworksVision\")\n",
    "    print(\"RoboticsSpeech\")\n",
    "    print(\"ProcessingNatural\")\n",
    "    print(\"Language\")\n",
    "    "
   ]
  },
  {
   "cell_type": "code",
   "execution_count": 2,
   "metadata": {},
   "outputs": [
    {
     "name": "stdout",
     "output_type": "stream",
     "text": [
      "Sub-fields in AI are:\n",
      "Machine LearningNeural\n",
      "NetworksVision\n",
      "RoboticsSpeech\n",
      "ProcessingNatural\n",
      "Language\n"
     ]
    }
   ],
   "source": [
    "Subfields()"
   ]
  },
  {
   "cell_type": "code",
   "execution_count": 9,
   "metadata": {},
   "outputs": [],
   "source": [
    "def OddEven():\n",
    "    oe=int(input(\"Enter a Number:\"))\n",
    "    if(oe%2==0):\n",
    "        print(oe,\"is Even Number\")\n",
    "    else:\n",
    "        print(oe, \"is Odd Number\")"
   ]
  },
  {
   "cell_type": "code",
   "execution_count": 10,
   "metadata": {},
   "outputs": [
    {
     "name": "stdout",
     "output_type": "stream",
     "text": [
      "Enter a Number:4\n",
      "4 is Even Number\n"
     ]
    }
   ],
   "source": [
    "OddEven()"
   ]
  },
  {
   "cell_type": "code",
   "execution_count": 17,
   "metadata": {},
   "outputs": [],
   "source": [
    "def Elegible():\n",
    "    gender=\"Male\"\n",
    "    age=int(input(\"Enter the Age:\"))\n",
    "    print(\"Your Gender:\",gender)\n",
    "    print(\"Your Age:\",age)\n",
    "    if(age>=18):\n",
    "        print(\"ELIGIBLE\")\n",
    "    else:\n",
    "        print(\"NOT ELIGIBLE\")"
   ]
  },
  {
   "cell_type": "code",
   "execution_count": 18,
   "metadata": {},
   "outputs": [
    {
     "name": "stdout",
     "output_type": "stream",
     "text": [
      "Enter the Age:17\n",
      "Your Gender: Male\n",
      "Your Age: 17\n",
      "NOT ELIGIBLE\n"
     ]
    }
   ],
   "source": [
    "Elegible()"
   ]
  },
  {
   "cell_type": "code",
   "execution_count": 25,
   "metadata": {},
   "outputs": [],
   "source": [
    "def triangle():\n",
    "    height=3\n",
    "    breadth1=4\n",
    "    area=(height*breadth1)/2\n",
    "    height1=3\n",
    "    height2=4\n",
    "    breadth=45\n",
    "    perimeter=height1+height2+breadth\n",
    "    \n",
    "    print(\"Height:\",height)\n",
    "    print(\"Breadth:\",breadth1)\n",
    "    print(\"Area of Triangle:\",area)\n",
    "    print(\"Height1:\",height1)\n",
    "    print(\"Height2\",height2)\n",
    "    print(\"breadth:\",breadth)\n",
    "    print(\"Perimeter of Triangle:\",perimeter)"
   ]
  },
  {
   "cell_type": "code",
   "execution_count": null,
   "metadata": {},
   "outputs": [],
   "source": []
  },
  {
   "cell_type": "code",
   "execution_count": 26,
   "metadata": {},
   "outputs": [],
   "source": [
    "def triangle():\n",
    "    height=3\n",
    "    breadth1=4\n",
    "    area=(height*breadth1)/2\n",
    "    height1=3\n",
    "    height2=4\n",
    "    breadth=45\n",
    "    perimeter=height1+height2+breadth\n",
    "    \n",
    "    print(\"Height:\",height)\n",
    "    print(\"Breadth:\",breadth1)\n",
    "    print(\"Area of Triangle:\",area)\n",
    "    print(\"Height1:\",height1)\n",
    "    print(\"Height2\",height2)\n",
    "    print(\"breadth:\",breadth)\n",
    "    print(\"Perimeter of Triangle:\",perimeter)"
   ]
  },
  {
   "cell_type": "code",
   "execution_count": 27,
   "metadata": {},
   "outputs": [
    {
     "name": "stdout",
     "output_type": "stream",
     "text": [
      "Height: 3\n",
      "Breadth: 4\n",
      "Area of Triangle: 6.0\n",
      "Height1: 3\n",
      "Height2 4\n",
      "breadth: 45\n",
      "Perimeter of Triangle: 52\n"
     ]
    }
   ],
   "source": [
    "triangle()"
   ]
  },
  {
   "cell_type": "code",
   "execution_count": 2,
   "metadata": {},
   "outputs": [],
   "source": [
    "def percentage():\n",
    "    Subject1= 98\n",
    "    Subject2= 87\n",
    "    Subject3= 95\n",
    "    Subject4= 95\n",
    "    Subject5= 93\n",
    "    \n",
    "    print(\"Subject1=\", Subject1)\n",
    "    print(\"Subject2=\", Subject2)\n",
    "    print(\"Subject3=\", Subject3)\n",
    "    print(\"Subject4=\", Subject4)\n",
    "    print(\"Subject5=\", Subject5)\n",
    "    total = Subject1+Subject2+Subject3+Subject4+Subject5\n",
    "    print(\"Total=\", total)\n",
    "    print(\"Percentage=\",total/5)\n",
    "    \n",
    "    "
   ]
  },
  {
   "cell_type": "code",
   "execution_count": null,
   "metadata": {},
   "outputs": [],
   "source": []
  }
 ],
 "metadata": {
  "kernelspec": {
   "display_name": "Python 3",
   "language": "python",
   "name": "python3"
  },
  "language_info": {
   "codemirror_mode": {
    "name": "ipython",
    "version": 3
   },
   "file_extension": ".py",
   "mimetype": "text/x-python",
   "name": "python",
   "nbconvert_exporter": "python",
   "pygments_lexer": "ipython3",
   "version": "3.7.4"
  }
 },
 "nbformat": 4,
 "nbformat_minor": 2
}

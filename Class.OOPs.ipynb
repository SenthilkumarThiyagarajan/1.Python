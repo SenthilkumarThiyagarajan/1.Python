{
 "cells": [
  {
   "cell_type": "code",
   "execution_count": 1,
   "metadata": {},
   "outputs": [],
   "source": [
    "class firstClass():\n",
    "    def Subfields():\n",
    "        print(\"Sub-fields in AI are:\")\n",
    "        print(\"Machine LearningNeural\")\n",
    "        print(\"NetworksVision\")\n",
    "        print(\"RoboticsSpeech\")\n",
    "        print(\"ProcessingNatural\")\n",
    "        print(\"Language\")\n",
    "        \n",
    "    def OddEven():\n",
    "        oe=int(input(\"Enter a Number:\"))\n",
    "        if(oe%2==0):\n",
    "            print(oe,\"is Even Number\")\n",
    "        else:\n",
    "            print(oe, \"is Odd Number\")\n",
    "            \n",
    "    def Elegible():\n",
    "        gender=\"Male\"\n",
    "        age=int(input(\"Enter the Age:\"))\n",
    "        print(\"Your Gender:\",gender)\n",
    "        print(\"Your Age:\",age)\n",
    "        if(age>=18):\n",
    "            print(\"ELIGIBLE\")\n",
    "        else:\n",
    "            print(\"NOT ELIGIBLE\")"
   ]
  },
  {
   "cell_type": "code",
   "execution_count": 2,
   "metadata": {},
   "outputs": [
    {
     "name": "stdout",
     "output_type": "stream",
     "text": [
      "Sub-fields in AI are:\n",
      "Machine LearningNeural\n",
      "NetworksVision\n",
      "RoboticsSpeech\n",
      "ProcessingNatural\n",
      "Language\n"
     ]
    }
   ],
   "source": [
    "firstClass.Subfields()"
   ]
  },
  {
   "cell_type": "code",
   "execution_count": 3,
   "metadata": {},
   "outputs": [
    {
     "name": "stdout",
     "output_type": "stream",
     "text": [
      "Sub-fields in AI are:\n",
      "Machine LearningNeural\n",
      "NetworksVision\n",
      "RoboticsSpeech\n",
      "ProcessingNatural\n",
      "Language\n"
     ]
    }
   ],
   "source": [
    "firstClass.Subfields()"
   ]
  },
  {
   "cell_type": "code",
   "execution_count": 4,
   "metadata": {},
   "outputs": [
    {
     "name": "stdout",
     "output_type": "stream",
     "text": [
      "Enter a Number:3\n",
      "3 is Odd Number\n"
     ]
    }
   ],
   "source": [
    "firstClass.OddEven()"
   ]
  },
  {
   "cell_type": "code",
   "execution_count": 9,
   "metadata": {},
   "outputs": [],
   "source": [
    "from FirstLibrary import firstClass"
   ]
  },
  {
   "cell_type": "code",
   "execution_count": 10,
   "metadata": {},
   "outputs": [
    {
     "ename": "NameError",
     "evalue": "name 'FirstLibrary' is not defined",
     "output_type": "error",
     "traceback": [
      "\u001b[1;31m---------------------------------------------------------------------------\u001b[0m",
      "\u001b[1;31mNameError\u001b[0m                                 Traceback (most recent call last)",
      "\u001b[1;32m<ipython-input-10-6b4920c3df14>\u001b[0m in \u001b[0;36m<module>\u001b[1;34m\u001b[0m\n\u001b[1;32m----> 1\u001b[1;33m \u001b[0mFirstLibrary\u001b[0m\u001b[1;33m.\u001b[0m\u001b[0mSubfields\u001b[0m\u001b[1;33m(\u001b[0m\u001b[1;33m)\u001b[0m\u001b[1;33m\u001b[0m\u001b[1;33m\u001b[0m\u001b[0m\n\u001b[0m",
      "\u001b[1;31mNameError\u001b[0m: name 'FirstLibrary' is not defined"
     ]
    }
   ],
   "source": [
    "FirstLibrary.Subfields()"
   ]
  },
  {
   "cell_type": "code",
   "execution_count": null,
   "metadata": {},
   "outputs": [],
   "source": []
  }
 ],
 "metadata": {
  "kernelspec": {
   "display_name": "Python 3",
   "language": "python",
   "name": "python3"
  },
  "language_info": {
   "codemirror_mode": {
    "name": "ipython",
    "version": 3
   },
   "file_extension": ".py",
   "mimetype": "text/x-python",
   "name": "python",
   "nbconvert_exporter": "python",
   "pygments_lexer": "ipython3",
   "version": "3.7.4"
  }
 },
 "nbformat": 4,
 "nbformat_minor": 2
}

{
 "cells": [
  {
   "cell_type": "code",
   "execution_count": 1,
   "metadata": {},
   "outputs": [],
   "source": [
    "class firstClass():\n",
    "    def Subfields():\n",
    "        print(\"Sub-fields in AI are:\")\n",
    "        print(\"Machine LearningNeural\")\n",
    "        print(\"NetworksVision\")\n",
    "        print(\"RoboticsSpeech\")\n",
    "        print(\"ProcessingNatural\")\n",
    "        print(\"Language\")\n",
    "        \n",
    "    def OddEven():\n",
    "        oe=int(input(\"Enter a Number:\"))\n",
    "        if(oe%2==0):\n",
    "            print(oe,\"is Even Number\")\n",
    "        else:\n",
    "            print(oe, \"is Odd Number\")\n",
    "            \n",
    "    def Elegible():\n",
    "        gender=\"Male\"\n",
    "        age=int(input(\"Enter the Age:\"))\n",
    "        print(\"Your Gender:\",gender)\n",
    "        print(\"Your Age:\",age)\n",
    "        if(age>=18):\n",
    "            print(\"ELIGIBLE\")\n",
    "        else:\n",
    "            print(\"NOT ELIGIBLE\")"
   ]
  },
  {
   "cell_type": "code",
   "execution_count": 2,
   "metadata": {},
   "outputs": [
    {
     "name": "stdout",
     "output_type": "stream",
     "text": [
      "Sub-fields in AI are:\n",
      "Machine LearningNeural\n",
      "NetworksVision\n",
      "RoboticsSpeech\n",
      "ProcessingNatural\n",
      "Language\n"
     ]
    }
   ],
   "source": [
    "firstClass.Subfields()"
   ]
  },
  {
   "cell_type": "code",
   "execution_count": 3,
   "metadata": {},
   "outputs": [
    {
     "name": "stdout",
     "output_type": "stream",
     "text": [
      "Sub-fields in AI are:\n",
      "Machine LearningNeural\n",
      "NetworksVision\n",
      "RoboticsSpeech\n",
      "ProcessingNatural\n",
      "Language\n"
     ]
    }
   ],
   "source": [
    "firstClass.Subfields()"
   ]
  },
  {
   "cell_type": "code",
   "execution_count": 4,
   "metadata": {},
   "outputs": [
    {
     "name": "stdout",
     "output_type": "stream",
     "text": [
      "Enter a Number:3\n",
      "3 is Odd Number\n"
     ]
    }
   ],
   "source": [
    "firstClass.OddEven()"
   ]
  },
  {
   "cell_type": "code",
   "execution_count": null,
   "metadata": {},
   "outputs": [],
   "source": []
  },
  {
   "cell_type": "code",
   "execution_count": null,
   "metadata": {},
   "outputs": [],
   "source": []
  },
  {
   "cell_type": "code",
   "execution_count": null,
   "metadata": {},
   "outputs": [],
   "source": []
  }
 ],
 "metadata": {
  "kernelspec": {
   "display_name": "Python 3",
   "language": "python",
   "name": "python3"
  },
  "language_info": {
   "codemirror_mode": {
    "name": "ipython",
    "version": 3
   },
   "file_extension": ".py",
   "mimetype": "text/x-python",
   "name": "python",
   "nbconvert_exporter": "python",
   "pygments_lexer": "ipython3",
   "version": "3.7.4"
  }
 },
 "nbformat": 4,
 "nbformat_minor": 2
}

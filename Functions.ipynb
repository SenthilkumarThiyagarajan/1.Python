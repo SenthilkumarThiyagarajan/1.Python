{
 "cells": [
  {
   "cell_type": "code",
   "execution_count": null,
   "metadata": {},
   "outputs": [],
   "source": []
  },
  {
   "cell_type": "code",
   "execution_count": 8,
   "metadata": {},
   "outputs": [],
   "source": [
    "def BMICalculation():\n",
    "    if(BMI<18.5):\n",
    "        print(\"Underweight\")\n",
    "    elif(BMI>=18.5 and BMI<=24.9):\n",
    "        print(\"Normal Weight\")\n",
    "    elif(BMI>=25.0 and BMI<=29.9):\n",
    "        print(\"Pre-obesity\")\n",
    "    elif(BMI>=30.0 and BMI<=34.9):\n",
    "        print(\"Obesity class I\")\n",
    "    elif(BMI>=35.0 and BMI<=39.9):\n",
    "        print(\"Obesity class II\")\n",
    "    elif(BMI>=40.0):\n",
    "        print(\"Obesity class III\")\n",
    "    return BMI        \n"
   ]
  },
  {
   "cell_type": "code",
   "execution_count": 9,
   "metadata": {},
   "outputs": [
    {
     "name": "stdout",
     "output_type": "stream",
     "text": [
      "Enter the BMI value:12\n",
      "Underweight\n",
      "12\n"
     ]
    }
   ],
   "source": [
    "BMI=int(input(\"Enter the BMI value:\"))\n",
    "print(BMICalculation())"
   ]
  },
  {
   "cell_type": "code",
   "execution_count": null,
   "metadata": {},
   "outputs": [],
   "source": [
    "#oddeven"
   ]
  },
  {
   "cell_type": "code",
   "execution_count": 6,
   "metadata": {},
   "outputs": [],
   "source": [
    "def oddeven():\n",
    "    oe=int(input(\"Enter the number:\"))\n",
    "    if(oe%2==0):\n",
    "        return \"Even\"\n",
    "    else:\n",
    "        return\"odd\""
   ]
  },
  {
   "cell_type": "code",
   "execution_count": 7,
   "metadata": {},
   "outputs": [
    {
     "name": "stdout",
     "output_type": "stream",
     "text": [
      "Enter the number:3\n",
      "The result is: odd\n"
     ]
    }
   ],
   "source": [
    "ret = oddeven()\n",
    "print(\"The result is:\",ret)"
   ]
  },
  {
   "cell_type": "code",
   "execution_count": null,
   "metadata": {},
   "outputs": [],
   "source": []
  }
 ],
 "metadata": {
  "kernelspec": {
   "display_name": "Python 3",
   "language": "python",
   "name": "python3"
  },
  "language_info": {
   "codemirror_mode": {
    "name": "ipython",
    "version": 3
   },
   "file_extension": ".py",
   "mimetype": "text/x-python",
   "name": "python",
   "nbconvert_exporter": "python",
   "pygments_lexer": "ipython3",
   "version": "3.7.4"
  }
 },
 "nbformat": 4,
 "nbformat_minor": 2
}

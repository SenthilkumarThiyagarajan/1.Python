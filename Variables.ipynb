{
 "cells": [
  {
   "cell_type": "code",
   "execution_count": 9,
   "metadata": {},
   "outputs": [
    {
     "name": "stdout",
     "output_type": "stream",
     "text": [
      "The addition of two numbers\n",
      "The number1: 10\n",
      "The number2: 20\n",
      "Answer: 30\n"
     ]
    }
   ],
   "source": [
    "print(\"The addition of two numbers\")\n",
    "num1=10\n",
    "print(\"The number1:\",num1)\n",
    "num2=20\n",
    "print(\"The number2:\", num2)\n",
    "num3 = num1+num2\n",
    "print(\"Answer:\",num3)\n",
    "\n"
   ]
  },
  {
   "cell_type": "code",
   "execution_count": 8,
   "metadata": {},
   "outputs": [
    {
     "name": "stdout",
     "output_type": "stream",
     "text": [
      "Enter the value:100\n",
      "100\n",
      "Senior Citizen\n"
     ]
    }
   ],
   "source": [
    "num3 = int(input('Enter the value:'))\n",
    "print(num3)\n",
    "if(num3<18):\n",
    "    print(\"Children\")\n",
    "elif(num3<35):\n",
    "    print(\"Adult\")\n",
    "elif(num3<59):\n",
    "    print(\"Citizen\")\n",
    "else:\n",
    "    print(\"Senior Citizen\")"
   ]
  },
  {
   "cell_type": "code",
   "execution_count": 11,
   "metadata": {},
   "outputs": [
    {
     "name": "stdout",
     "output_type": "stream",
     "text": [
      "Enter num 4:3\n",
      "Enter num 5:2\n",
      "Sum: 5\n"
     ]
    }
   ],
   "source": [
    "num4 = int(input(\"Enter num 4:\"))\n",
    "num5 = int(input(\"Enter num 5:\"))\n",
    "num6 = num4+num5\n",
    "print(\"Sum:\",num6)"
   ]
  },
  {
   "cell_type": "code",
   "execution_count": null,
   "metadata": {},
   "outputs": [],
   "source": []
  }
 ],
 "metadata": {
  "kernelspec": {
   "display_name": "Python 3",
   "language": "python",
   "name": "python3"
  },
  "language_info": {
   "codemirror_mode": {
    "name": "ipython",
    "version": 3
   },
   "file_extension": ".py",
   "mimetype": "text/x-python",
   "name": "python",
   "nbconvert_exporter": "python",
   "pygments_lexer": "ipython3",
   "version": "3.7.4"
  }
 },
 "nbformat": 4,
 "nbformat_minor": 2
}
